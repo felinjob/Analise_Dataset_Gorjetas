{
 "cells": [
  {
   "cell_type": "markdown",
   "id": "3841c765",
   "metadata": {},
   "source": [
    "# **Limpeza de Dados do Data Set Tips**"
   ]
  },
  {
   "cell_type": "markdown",
   "id": "e385328d-8c44-4689-8e55-463fc9a43663",
   "metadata": {},
   "source": [
    "## Índice:\n",
    "- [Visão Geral do Projeto](#geral)\n",
    "- [Carregamento dos Dados](#pt01)\n",
    "- [Tratamento de Valores Ausentes](#pt02)\n",
    "- [Detecção e Tratamento de Outliers](#pt03)\n",
    "- [Transformação e Codificação de Dados](#pt04)\n",
    "- [Verificação de Dados Transformados](#pt05)\n",
    "- [Conclusão](#conclusao)\n"
   ]
  },
  {
   "cell_type": "markdown",
   "id": "db1d5476-a468-4ebd-b979-96ca1ac1c2e2",
   "metadata": {},
   "source": [
    "## **Visão Geral**<a id=\"geral\"></a>\n",
    "Este notebook apresenta a limpeza e pré-processamento de dados do data set `Tips`. O objetivo é preparar os dados para análises subsequentes, garantindo sua qualidade e adequação para modelos de aprendizado de máquina."
   ]
  },
  {
   "cell_type": "code",
   "execution_count": 1,
   "id": "49dbdc1c-355b-445c-a4db-fcf5d2ef332b",
   "metadata": {
    "tags": []
   },
   "outputs": [],
   "source": [
    "import pandas as pd\n",
    "import numpy as np\n",
    "from scipy import stats\n",
    "from sklearn.pipeline import Pipeline\n",
    "from sklearn.compose import ColumnTransformer\n",
    "from sklearn.preprocessing import StandardScaler, OneHotEncoder, OrdinalEncoder\n",
    "from sklearn.impute import SimpleImputer\n",
    "from sklearn.base import BaseEstimator, TransformerMixin"
   ]
  },
  {
   "cell_type": "markdown",
   "id": "9e7261c0",
   "metadata": {},
   "source": [
    "## **1. Carregamento dos Dados**<a id=\"pt01\"></a>\n",
    "* O conjunto de dados tips_data.csv é carregado usando a biblioteca pandas.\n",
    "* As primeiras linhas e um resumo das colunas são exibidos para uma visão geral dos dados.\n",
    "* Um dicionário de dados tips_dictionary.csv fornece informações sobre o tipo e significado de cada variável."
   ]
  },
  {
   "cell_type": "code",
   "execution_count": 2,
   "id": "470bdfd5",
   "metadata": {
    "tags": []
   },
   "outputs": [
    {
     "data": {
      "text/html": [
       "<div>\n",
       "<style scoped>\n",
       "    .dataframe tbody tr th:only-of-type {\n",
       "        vertical-align: middle;\n",
       "    }\n",
       "\n",
       "    .dataframe tbody tr th {\n",
       "        vertical-align: top;\n",
       "    }\n",
       "\n",
       "    .dataframe thead th {\n",
       "        text-align: right;\n",
       "    }\n",
       "</style>\n",
       "<table border=\"1\" class=\"dataframe\">\n",
       "  <thead>\n",
       "    <tr style=\"text-align: right;\">\n",
       "      <th></th>\n",
       "      <th>total_bill</th>\n",
       "      <th>tip</th>\n",
       "      <th>sex</th>\n",
       "      <th>smoker</th>\n",
       "      <th>day</th>\n",
       "      <th>time</th>\n",
       "      <th>size</th>\n",
       "    </tr>\n",
       "  </thead>\n",
       "  <tbody>\n",
       "    <tr>\n",
       "      <th>0</th>\n",
       "      <td>16.99</td>\n",
       "      <td>1.01</td>\n",
       "      <td>Female</td>\n",
       "      <td>No</td>\n",
       "      <td>Sun</td>\n",
       "      <td>Dinner</td>\n",
       "      <td>2</td>\n",
       "    </tr>\n",
       "    <tr>\n",
       "      <th>1</th>\n",
       "      <td>10.34</td>\n",
       "      <td>1.66</td>\n",
       "      <td>Male</td>\n",
       "      <td>No</td>\n",
       "      <td>Sun</td>\n",
       "      <td>Dinner</td>\n",
       "      <td>3</td>\n",
       "    </tr>\n",
       "    <tr>\n",
       "      <th>2</th>\n",
       "      <td>21.01</td>\n",
       "      <td>3.50</td>\n",
       "      <td>Male</td>\n",
       "      <td>No</td>\n",
       "      <td>Sun</td>\n",
       "      <td>Dinner</td>\n",
       "      <td>3</td>\n",
       "    </tr>\n",
       "    <tr>\n",
       "      <th>3</th>\n",
       "      <td>23.68</td>\n",
       "      <td>3.31</td>\n",
       "      <td>Male</td>\n",
       "      <td>No</td>\n",
       "      <td>Sun</td>\n",
       "      <td>Dinner</td>\n",
       "      <td>2</td>\n",
       "    </tr>\n",
       "    <tr>\n",
       "      <th>4</th>\n",
       "      <td>24.59</td>\n",
       "      <td>3.61</td>\n",
       "      <td>Female</td>\n",
       "      <td>No</td>\n",
       "      <td>Sun</td>\n",
       "      <td>Dinner</td>\n",
       "      <td>4</td>\n",
       "    </tr>\n",
       "  </tbody>\n",
       "</table>\n",
       "</div>"
      ],
      "text/plain": [
       "   total_bill   tip     sex smoker  day    time  size\n",
       "0       16.99  1.01  Female     No  Sun  Dinner     2\n",
       "1       10.34  1.66    Male     No  Sun  Dinner     3\n",
       "2       21.01  3.50    Male     No  Sun  Dinner     3\n",
       "3       23.68  3.31    Male     No  Sun  Dinner     2\n",
       "4       24.59  3.61  Female     No  Sun  Dinner     4"
      ]
     },
     "execution_count": 2,
     "metadata": {},
     "output_type": "execute_result"
    }
   ],
   "source": [
    "import pandas as pd\n",
    "\n",
    "# Carregar os dados\n",
    "df = pd.read_csv('../data/raw/tips_data.csv')\n",
    "# Exibir as primeiras linhas dos dados\n",
    "df.head()"
   ]
  },
  {
   "cell_type": "code",
   "execution_count": 3,
   "id": "96513bfd-d023-4ca1-b000-405d8352607b",
   "metadata": {
    "tags": []
   },
   "outputs": [
    {
     "data": {
      "text/html": [
       "<div>\n",
       "<style scoped>\n",
       "    .dataframe tbody tr th:only-of-type {\n",
       "        vertical-align: middle;\n",
       "    }\n",
       "\n",
       "    .dataframe tbody tr th {\n",
       "        vertical-align: top;\n",
       "    }\n",
       "\n",
       "    .dataframe thead th {\n",
       "        text-align: right;\n",
       "    }\n",
       "</style>\n",
       "<table border=\"1\" class=\"dataframe\">\n",
       "  <thead>\n",
       "    <tr style=\"text-align: right;\">\n",
       "      <th></th>\n",
       "      <th>variavel</th>\n",
       "      <th>descricao</th>\n",
       "      <th>tipo</th>\n",
       "      <th>subtipo</th>\n",
       "    </tr>\n",
       "  </thead>\n",
       "  <tbody>\n",
       "    <tr>\n",
       "      <th>0</th>\n",
       "      <td>total_bill</td>\n",
       "      <td>valor da conta em dólares</td>\n",
       "      <td>quantitativa</td>\n",
       "      <td>contínua</td>\n",
       "    </tr>\n",
       "    <tr>\n",
       "      <th>1</th>\n",
       "      <td>tip</td>\n",
       "      <td>valor da gorgeta em dólares</td>\n",
       "      <td>quantitativa</td>\n",
       "      <td>contínua</td>\n",
       "    </tr>\n",
       "    <tr>\n",
       "      <th>2</th>\n",
       "      <td>sex</td>\n",
       "      <td>sexo de quem pagou a conta</td>\n",
       "      <td>qualitativa</td>\n",
       "      <td>nominal</td>\n",
       "    </tr>\n",
       "    <tr>\n",
       "      <th>3</th>\n",
       "      <td>smoker</td>\n",
       "      <td>Se havia fumantes na mesa</td>\n",
       "      <td>qualitativa</td>\n",
       "      <td>nominal</td>\n",
       "    </tr>\n",
       "    <tr>\n",
       "      <th>4</th>\n",
       "      <td>day</td>\n",
       "      <td>dia da semana</td>\n",
       "      <td>qualitativa</td>\n",
       "      <td>ordinal</td>\n",
       "    </tr>\n",
       "    <tr>\n",
       "      <th>5</th>\n",
       "      <td>time</td>\n",
       "      <td>hora do dia</td>\n",
       "      <td>qualitativa</td>\n",
       "      <td>nominal</td>\n",
       "    </tr>\n",
       "    <tr>\n",
       "      <th>6</th>\n",
       "      <td>size</td>\n",
       "      <td>quantidade de pessoas na mesa</td>\n",
       "      <td>quantitativa</td>\n",
       "      <td>discreta</td>\n",
       "    </tr>\n",
       "  </tbody>\n",
       "</table>\n",
       "</div>"
      ],
      "text/plain": [
       "     variavel                      descricao          tipo   subtipo\n",
       "0  total_bill      valor da conta em dólares  quantitativa  contínua\n",
       "1         tip    valor da gorgeta em dólares  quantitativa  contínua\n",
       "2         sex     sexo de quem pagou a conta   qualitativa   nominal\n",
       "3      smoker      Se havia fumantes na mesa   qualitativa   nominal\n",
       "4         day                  dia da semana   qualitativa   ordinal\n",
       "5        time                    hora do dia   qualitativa   nominal\n",
       "6        size  quantidade de pessoas na mesa  quantitativa  discreta"
      ]
     },
     "execution_count": 3,
     "metadata": {},
     "output_type": "execute_result"
    }
   ],
   "source": [
    "dicionario = pd.read_csv('../data/external/tips_dictionary.csv')\n",
    "dicionario"
   ]
  },
  {
   "cell_type": "code",
   "execution_count": 4,
   "id": "4f7c8ee8-74f5-445e-963b-76f989bb434b",
   "metadata": {
    "tags": []
   },
   "outputs": [
    {
     "name": "stdout",
     "output_type": "stream",
     "text": [
      "<class 'pandas.core.frame.DataFrame'>\n",
      "RangeIndex: 244 entries, 0 to 243\n",
      "Data columns (total 7 columns):\n",
      " #   Column      Non-Null Count  Dtype  \n",
      "---  ------      --------------  -----  \n",
      " 0   total_bill  244 non-null    float64\n",
      " 1   tip         244 non-null    float64\n",
      " 2   sex         244 non-null    object \n",
      " 3   smoker      244 non-null    object \n",
      " 4   day         244 non-null    object \n",
      " 5   time        244 non-null    object \n",
      " 6   size        244 non-null    int64  \n",
      "dtypes: float64(2), int64(1), object(4)\n",
      "memory usage: 13.5+ KB\n"
     ]
    }
   ],
   "source": [
    "df.info()"
   ]
  },
  {
   "cell_type": "code",
   "execution_count": 5,
   "id": "d63a2e53-ac89-42cf-9532-28df26c8cc71",
   "metadata": {
    "tags": []
   },
   "outputs": [
    {
     "data": {
      "text/html": [
       "<div>\n",
       "<style scoped>\n",
       "    .dataframe tbody tr th:only-of-type {\n",
       "        vertical-align: middle;\n",
       "    }\n",
       "\n",
       "    .dataframe tbody tr th {\n",
       "        vertical-align: top;\n",
       "    }\n",
       "\n",
       "    .dataframe thead th {\n",
       "        text-align: right;\n",
       "    }\n",
       "</style>\n",
       "<table border=\"1\" class=\"dataframe\">\n",
       "  <thead>\n",
       "    <tr style=\"text-align: right;\">\n",
       "      <th></th>\n",
       "      <th>total_bill</th>\n",
       "      <th>tip</th>\n",
       "      <th>sex</th>\n",
       "      <th>smoker</th>\n",
       "      <th>day</th>\n",
       "      <th>time</th>\n",
       "      <th>size</th>\n",
       "    </tr>\n",
       "  </thead>\n",
       "  <tbody>\n",
       "    <tr>\n",
       "      <th>count</th>\n",
       "      <td>244.000000</td>\n",
       "      <td>244.000000</td>\n",
       "      <td>244</td>\n",
       "      <td>244</td>\n",
       "      <td>244</td>\n",
       "      <td>244</td>\n",
       "      <td>244.000000</td>\n",
       "    </tr>\n",
       "    <tr>\n",
       "      <th>unique</th>\n",
       "      <td>NaN</td>\n",
       "      <td>NaN</td>\n",
       "      <td>2</td>\n",
       "      <td>2</td>\n",
       "      <td>4</td>\n",
       "      <td>2</td>\n",
       "      <td>NaN</td>\n",
       "    </tr>\n",
       "    <tr>\n",
       "      <th>top</th>\n",
       "      <td>NaN</td>\n",
       "      <td>NaN</td>\n",
       "      <td>Male</td>\n",
       "      <td>No</td>\n",
       "      <td>Sat</td>\n",
       "      <td>Dinner</td>\n",
       "      <td>NaN</td>\n",
       "    </tr>\n",
       "    <tr>\n",
       "      <th>freq</th>\n",
       "      <td>NaN</td>\n",
       "      <td>NaN</td>\n",
       "      <td>157</td>\n",
       "      <td>151</td>\n",
       "      <td>87</td>\n",
       "      <td>176</td>\n",
       "      <td>NaN</td>\n",
       "    </tr>\n",
       "    <tr>\n",
       "      <th>mean</th>\n",
       "      <td>19.785943</td>\n",
       "      <td>2.998279</td>\n",
       "      <td>NaN</td>\n",
       "      <td>NaN</td>\n",
       "      <td>NaN</td>\n",
       "      <td>NaN</td>\n",
       "      <td>2.569672</td>\n",
       "    </tr>\n",
       "    <tr>\n",
       "      <th>std</th>\n",
       "      <td>8.902412</td>\n",
       "      <td>1.383638</td>\n",
       "      <td>NaN</td>\n",
       "      <td>NaN</td>\n",
       "      <td>NaN</td>\n",
       "      <td>NaN</td>\n",
       "      <td>0.951100</td>\n",
       "    </tr>\n",
       "    <tr>\n",
       "      <th>min</th>\n",
       "      <td>3.070000</td>\n",
       "      <td>1.000000</td>\n",
       "      <td>NaN</td>\n",
       "      <td>NaN</td>\n",
       "      <td>NaN</td>\n",
       "      <td>NaN</td>\n",
       "      <td>1.000000</td>\n",
       "    </tr>\n",
       "    <tr>\n",
       "      <th>25%</th>\n",
       "      <td>13.347500</td>\n",
       "      <td>2.000000</td>\n",
       "      <td>NaN</td>\n",
       "      <td>NaN</td>\n",
       "      <td>NaN</td>\n",
       "      <td>NaN</td>\n",
       "      <td>2.000000</td>\n",
       "    </tr>\n",
       "    <tr>\n",
       "      <th>50%</th>\n",
       "      <td>17.795000</td>\n",
       "      <td>2.900000</td>\n",
       "      <td>NaN</td>\n",
       "      <td>NaN</td>\n",
       "      <td>NaN</td>\n",
       "      <td>NaN</td>\n",
       "      <td>2.000000</td>\n",
       "    </tr>\n",
       "    <tr>\n",
       "      <th>75%</th>\n",
       "      <td>24.127500</td>\n",
       "      <td>3.562500</td>\n",
       "      <td>NaN</td>\n",
       "      <td>NaN</td>\n",
       "      <td>NaN</td>\n",
       "      <td>NaN</td>\n",
       "      <td>3.000000</td>\n",
       "    </tr>\n",
       "    <tr>\n",
       "      <th>max</th>\n",
       "      <td>50.810000</td>\n",
       "      <td>10.000000</td>\n",
       "      <td>NaN</td>\n",
       "      <td>NaN</td>\n",
       "      <td>NaN</td>\n",
       "      <td>NaN</td>\n",
       "      <td>6.000000</td>\n",
       "    </tr>\n",
       "  </tbody>\n",
       "</table>\n",
       "</div>"
      ],
      "text/plain": [
       "        total_bill         tip   sex smoker  day    time        size\n",
       "count   244.000000  244.000000   244    244  244     244  244.000000\n",
       "unique         NaN         NaN     2      2    4       2         NaN\n",
       "top            NaN         NaN  Male     No  Sat  Dinner         NaN\n",
       "freq           NaN         NaN   157    151   87     176         NaN\n",
       "mean     19.785943    2.998279   NaN    NaN  NaN     NaN    2.569672\n",
       "std       8.902412    1.383638   NaN    NaN  NaN     NaN    0.951100\n",
       "min       3.070000    1.000000   NaN    NaN  NaN     NaN    1.000000\n",
       "25%      13.347500    2.000000   NaN    NaN  NaN     NaN    2.000000\n",
       "50%      17.795000    2.900000   NaN    NaN  NaN     NaN    2.000000\n",
       "75%      24.127500    3.562500   NaN    NaN  NaN     NaN    3.000000\n",
       "max      50.810000   10.000000   NaN    NaN  NaN     NaN    6.000000"
      ]
     },
     "metadata": {},
     "output_type": "display_data"
    }
   ],
   "source": [
    "display(df.describe(include='all'))"
   ]
  },
  {
   "cell_type": "markdown",
   "id": "6287ac49-cf78-4edd-a3f5-50aa62ec638e",
   "metadata": {},
   "source": [
    "## **2. Tratamento de Valores Ausentes**<a id=\"pt02\"></a>\n",
    "* Verifica-se a presença de valores ausentes em cada coluna.\n",
    "* neste notebook, não há valores ausentes, mas o código demonstra como lidar com eles caso existissem."
   ]
  },
  {
   "cell_type": "code",
   "execution_count": 6,
   "id": "1f80af1a-563a-411e-b444-b32b21630f56",
   "metadata": {
    "tags": []
   },
   "outputs": [
    {
     "name": "stdout",
     "output_type": "stream",
     "text": [
      "\n",
      "Valores Faltantes por Coluna:\n",
      "total_bill    0\n",
      "tip           0\n",
      "sex           0\n",
      "smoker        0\n",
      "day           0\n",
      "time          0\n",
      "size          0\n",
      "dtype: int64\n"
     ]
    }
   ],
   "source": [
    "valores_faltantes = df.isnull().sum()\n",
    "print(\"\\nValores Faltantes por Coluna:\")\n",
    "print(valores_faltantes)"
   ]
  },
  {
   "cell_type": "markdown",
   "id": "0441a36f-b3e0-45be-8273-7b619ee18d76",
   "metadata": {},
   "source": [
    "## **3. Detecção e Tratamento de Outliers**<a id=\"pt03\"></a>\n",
    "\n",
    "* Outliers são identificados nas colunas numéricas usando o método do Intervalo Interquartil (IQR).\n",
    "* Uma classe customizada Lim_Val_Discrepantes é definida para limitar outliers a percentis específicos, se necessário."
   ]
  },
  {
   "cell_type": "code",
   "execution_count": 7,
   "id": "d0ce9ba6-81ab-447e-a9bd-2dd68fa2a35a",
   "metadata": {
    "tags": []
   },
   "outputs": [],
   "source": [
    "df_numerico = df.select_dtypes(include=[np.number])\n",
    "Q1 = df_numerico.quantile(0.25)\n",
    "Q3 = df_numerico.quantile(0.75)\n",
    "IQR = Q3 - Q1\n",
    "lower_bound = Q1 - 1.5 * IQR\n",
    "upper_bound = Q3 + 1.5 * IQR"
   ]
  },
  {
   "cell_type": "code",
   "execution_count": 8,
   "id": "5f3d5533-935b-45d7-ae11-289fad48ffba",
   "metadata": {
    "tags": []
   },
   "outputs": [
    {
     "name": "stdout",
     "output_type": "stream",
     "text": [
      "\n",
      "Outliers por Coluna:\n",
      "total_bill    9\n",
      "tip           9\n",
      "size          9\n",
      "dtype: int64\n"
     ]
    }
   ],
   "source": [
    "outliers = ((df_numerico < lower_bound) | (df_numerico > upper_bound)).sum()\n",
    "print(\"\\nOutliers por Coluna:\")\n",
    "print(outliers)"
   ]
  },
  {
   "cell_type": "code",
   "execution_count": 9,
   "id": "5144f0d2-47b8-435d-9f32-6eff11fae92a",
   "metadata": {
    "tags": []
   },
   "outputs": [],
   "source": [
    "class Lim_Val_Discrepantes(BaseEstimator, TransformerMixin):\n",
    "   \n",
    "    def __init__(self, percentil_inferior=5, percentil_superior=95):\n",
    "\n",
    "        self.percentil_inferior = percentil_inferior\n",
    "        self.percentil_superior = percentil_superior\n",
    "\n",
    "    def fit(self, X, y=None):\n",
    "\n",
    "        return self\n",
    "\n",
    "    def transform(self, X):\n",
    "\n",
    "        X_limitado = X.copy()  \n",
    "        for coluna in range(X_limitado.shape[1]): \n",
    "            limite_inferior = np.percentile(X_limitado[:, coluna], self.percentil_inferior)\n",
    "            limite_superior = np.percentile(X_limitado[:, coluna], self.percentil_superior)\n",
    "\n",
    "            X_limitado[:, coluna] = np.clip(X_limitado[:, coluna], limite_inferior, limite_superior)\n",
    "\n",
    "        return X_limitado"
   ]
  },
  {
   "cell_type": "markdown",
   "id": "96bbda66-c80d-4331-92b1-8daa53901449",
   "metadata": {},
   "source": [
    "## **4. Transformação e Codificação de Dados**<a id=\"pt04\"></a>\n",
    "\n",
    "* Variáveis categóricas são convertidas para o tipo category.\n",
    "* A variável ordinal day é codificada com rótulos numéricos que preservam a ordem.\n",
    "* Variáveis categóricas nominais são codificadas usando One-Hot Encoding.\n",
    "* Colunas numéricas são padronizadas (escalonadas) usando StandardScaler.\n",
    "* Um ColumnTransformer combina todas as transformações em um único pipeline"
   ]
  },
  {
   "cell_type": "code",
   "execution_count": 18,
   "id": "b9a9303b-a5a1-482f-9e18-643f1edcf17e",
   "metadata": {
    "tags": []
   },
   "outputs": [],
   "source": [
    "colunas_nominais = ['sex', 'smoker', 'time'] \n",
    "df[colunas_nominais] = df[colunas_nominais].astype('category')\n",
    "\n",
    "ordem_dias = ['Thur', 'Fri', 'Sat', 'Sun']\n",
    "df['day'] = pd.Categorical(df['day'], categories=ordem_dias, ordered=True)\n",
    "\n",
    "preprocesso_ordinal = Pipeline([\n",
    "    ('imputer', SimpleImputer(strategy='most_frequent')),\n",
    "    ('encoder', OrdinalEncoder(categories=[ordem_dias])) \n",
    "])\n",
    "\n",
    "preprocesso_numerico = Pipeline([\n",
    "    ('imputer', SimpleImputer(strategy='most_frequent')),\n",
    "    ('encoder', OneHotEncoder(handle_unknown='ignore', sparse_output=False, drop='first')) \n",
    "])\n",
    "\n",
    "colunas_numericas = ['total_bill', 'tip', 'size'] \n",
    "\n",
    "transformador_numerico = Pipeline([\n",
    "    ('imputer', SimpleImputer(strategy='median')),\n",
    "    ('scaler', StandardScaler())\n",
    "])\n",
    "\n",
    "preprocesso = ColumnTransformer([\n",
    "    ('ordinal', preprocesso_ordinal, ['day']),\n",
    "    ('numerical', transformador_numerico, colunas_numericas),\n",
    "    ('nominal', preprocesso_numerico, colunas_nominais)\n",
    "])\n",
    "\n",
    "X_transformado = preprocesso.fit_transform(df) "
   ]
  },
  {
   "cell_type": "markdown",
   "id": "9b21339a-b753-41c5-a778-38bf5938f3a6",
   "metadata": {},
   "source": [
    "## **Verificação dos Dados Transformados**<a id=\"pt05\"></a>\n",
    "\n",
    "* Verifica-se novamente se ainda existem valores ausentes após o pré-processamento.\n",
    "* Outliers remanescentes são detectados usando o método Z-score."
   ]
  },
  {
   "cell_type": "code",
   "execution_count": 19,
   "id": "08cfa989-bc28-49c6-8303-f41401a159c7",
   "metadata": {
    "tags": []
   },
   "outputs": [
    {
     "name": "stdout",
     "output_type": "stream",
     "text": [
      "\n",
      "Valores faltantes após pré-processamento:\n",
      "0\n",
      "\n",
      "Outliers Restantes após Pré-processamento:\n",
      "11\n"
     ]
    }
   ],
   "source": [
    "# 5. Verifying the Transformed Data\n",
    "\n",
    "# 5.1. Check for Remaining Missing Values\n",
    "valores_faltantes = np.isnan(X_transformado).sum()\n",
    "print(\"\\nValores faltantes após pré-processamento:\")\n",
    "print(valores_faltantes)\n",
    "\n",
    "def detectar_outliers(data, threshold=3):\n",
    "    z_scores = np.abs(stats.zscore(data))\n",
    "    outliers = (z_scores > threshold).sum()\n",
    "    return outliers\n",
    "\n",
    "nomes_caracteristicas_numericas = preprocesso.transformers_[1][2]\n",
    "\n",
    "# Get all transformed column names\n",
    "nomes_caracteristicas_novos = preprocesso.get_feature_names_out()\n",
    "\n",
    "# Find the indices of numerical features in the transformed data\n",
    "numerical_feature_indices = [i for i, name in enumerate(nomes_caracteristicas_novos) if any(num_feature in name for num_feature in nomes_caracteristicas_numericas)]\n",
    "\n",
    "# Apply outlier detection on the numerical features\n",
    "outliers_restantes = detectar_outliers(X_transformado[:, numerical_feature_indices])\n",
    "\n",
    "print(\"\\nOutliers Restantes após Pré-processamento:\")\n",
    "print(outliers_restantes)"
   ]
  },
  {
   "cell_type": "markdown",
   "id": "28d26f23-3575-4367-9726-0106a25dd1f1",
   "metadata": {
    "tags": []
   },
   "source": [
    "## **Conclusão**\n",
    "\n",
    "* Este notebook executa a limpeza e preparação de dados, lida com valores ausentes, outliers e codificação de variáveis categóricas. O uso de pipelines do scikit-learn tornou o processo mais organizado e eficiente."
   ]
  }
 ],
 "metadata": {
  "kernelspec": {
   "display_name": "Python 3 (ipykernel)",
   "language": "python",
   "name": "python3"
  },
  "language_info": {
   "codemirror_mode": {
    "name": "ipython",
    "version": 3
   },
   "file_extension": ".py",
   "mimetype": "text/x-python",
   "name": "python",
   "nbconvert_exporter": "python",
   "pygments_lexer": "ipython3",
   "version": "3.10.11"
  }
 },
 "nbformat": 4,
 "nbformat_minor": 5
}
